{
 "cells": [
  {
   "cell_type": "markdown",
   "id": "9689b14a",
   "metadata": {},
   "source": [
    "Importing Libraries"
   ]
  },
  {
   "cell_type": "code",
   "execution_count": 2,
   "id": "6cc589a7",
   "metadata": {},
   "outputs": [],
   "source": [
    "import tensorflow as tf\n",
    "import matplotlib.pyplot as plt\n",
    "import pandas as pd\n",
    "import seaborn as sns"
   ]
  },
  {
   "cell_type": "markdown",
   "id": "87fa3934",
   "metadata": {},
   "source": [
    "Data Preprocessing\n",
    "\n",
    "Training Image Preprocessing"
   ]
  },
  {
   "cell_type": "code",
   "execution_count": 4,
   "id": "d65bb503",
   "metadata": {},
   "outputs": [
    {
     "name": "stdout",
     "output_type": "stream",
     "text": [
      "Found 70295 files belonging to 38 classes.\n"
     ]
    }
   ],
   "source": [
    "train=r\"C:\\Users\\ASUS\\plant_diseases_extracted\\New Plant Diseases Dataset(Augmented)\\New Plant Diseases Dataset(Augmented)\\train\"\n",
    "training_set = tf.keras.utils.image_dataset_from_directory(\n",
    "    train,\n",
    "    labels=\"inferred\",\n",
    "    label_mode=\"categorical\",\n",
    "    class_names=None,\n",
    "    color_mode=\"rgb\",\n",
    "    batch_size=32,\n",
    "    image_size=(128, 128),\n",
    "    shuffle=True,\n",
    "    seed=None,\n",
    "    validation_split=None,\n",
    "    subset=None,\n",
    "    interpolation=\"bilinear\",\n",
    "    follow_links=False,\n",
    "    crop_to_aspect_ratio=False,\n",
    ")"
   ]
  },
  {
   "cell_type": "markdown",
   "id": "a1a1f201",
   "metadata": {},
   "source": [
    "Validation Image Preprocessing"
   ]
  },
  {
   "cell_type": "code",
   "execution_count": 5,
   "id": "0eb0d222",
   "metadata": {},
   "outputs": [
    {
     "name": "stdout",
     "output_type": "stream",
     "text": [
      "Found 17572 files belonging to 38 classes.\n"
     ]
    }
   ],
   "source": [
    "valid=r\"C:\\Users\\ASUS\\plant_diseases_extracted\\New Plant Diseases Dataset(Augmented)\\New Plant Diseases Dataset(Augmented)\\valid\"\n",
    "validation_set = tf.keras.utils.image_dataset_from_directory(\n",
    "    valid,\n",
    "    labels=\"inferred\",\n",
    "    label_mode=\"categorical\",\n",
    "    class_names=None,\n",
    "    color_mode=\"rgb\",\n",
    "    batch_size=32,\n",
    "    image_size=(128, 128),\n",
    "    shuffle=True,\n",
    "    seed=None,\n",
    "    validation_split=None,\n",
    "    subset=None,\n",
    "    interpolation=\"bilinear\",\n",
    "    follow_links=False,\n",
    "    crop_to_aspect_ratio=False,\n",
    ")"
   ]
  },
  {
   "cell_type": "code",
   "execution_count": 9,
   "id": "138f26a5",
   "metadata": {},
   "outputs": [
    {
     "name": "stdout",
     "output_type": "stream",
     "text": [
      "tf.Tensor(\n",
      "[[[[146.   136.   144.  ]\n",
      "   [151.75 141.75 149.75]\n",
      "   [151.75 141.75 149.75]\n",
      "   ...\n",
      "   [138.25 129.25 134.25]\n",
      "   [148.   139.   144.  ]\n",
      "   [149.25 140.25 145.25]]\n",
      "\n",
      "  [[143.25 133.25 141.25]\n",
      "   [147.75 137.75 145.75]\n",
      "   [147.25 137.25 145.25]\n",
      "   ...\n",
      "   [151.   142.   147.  ]\n",
      "   [143.75 134.75 139.75]\n",
      "   [149.25 140.25 145.25]]\n",
      "\n",
      "  [[157.5  147.5  155.5 ]\n",
      "   [152.5  142.5  150.5 ]\n",
      "   [148.75 138.75 146.75]\n",
      "   ...\n",
      "   [143.75 134.75 139.75]\n",
      "   [157.5  148.5  153.5 ]\n",
      "   [162.75 153.75 158.75]]\n",
      "\n",
      "  ...\n",
      "\n",
      "  [[136.5  123.5  132.5 ]\n",
      "   [142.5  129.5  138.5 ]\n",
      "   [144.5  131.5  140.5 ]\n",
      "   ...\n",
      "   [ 83.    69.    69.  ]\n",
      "   [ 80.    66.    66.  ]\n",
      "   [ 88.    74.    74.  ]]\n",
      "\n",
      "  [[142.   129.   138.  ]\n",
      "   [137.75 124.75 133.75]\n",
      "   [132.   119.   128.  ]\n",
      "   ...\n",
      "   [ 87.75  71.75  72.75]\n",
      "   [ 98.75  82.75  83.75]\n",
      "   [ 97.    81.    82.  ]]\n",
      "\n",
      "  [[138.   125.   134.  ]\n",
      "   [133.25 120.25 129.25]\n",
      "   [126.   113.   122.  ]\n",
      "   ...\n",
      "   [ 99.25  83.25  84.25]\n",
      "   [ 98.5   82.5   83.5 ]\n",
      "   [105.    89.    90.  ]]]\n",
      "\n",
      "\n",
      " [[[144.   134.   142.  ]\n",
      "   [140.75 130.75 138.75]\n",
      "   [153.75 143.75 151.75]\n",
      "   ...\n",
      "   [149.   143.   153.  ]\n",
      "   [152.5  146.5  156.5 ]\n",
      "   [135.75 129.75 139.75]]\n",
      "\n",
      "  [[152.5  142.5  150.5 ]\n",
      "   [152.25 142.25 150.25]\n",
      "   [144.25 134.25 142.25]\n",
      "   ...\n",
      "   [149.5  143.5  153.5 ]\n",
      "   [151.   145.   155.  ]\n",
      "   [147.75 141.75 151.75]]\n",
      "\n",
      "  [[154.5  144.5  152.5 ]\n",
      "   [152.75 142.75 150.75]\n",
      "   [151.5  141.5  149.5 ]\n",
      "   ...\n",
      "   [142.75 136.75 146.75]\n",
      "   [139.75 133.75 143.75]\n",
      "   [144.75 138.75 148.75]]\n",
      "\n",
      "  ...\n",
      "\n",
      "  [[112.5  101.5  107.5 ]\n",
      "   [115.   104.   110.  ]\n",
      "   [116.   105.   111.  ]\n",
      "   ...\n",
      "   [112.25 101.25 109.25]\n",
      "   [109.75  98.75 106.75]\n",
      "   [109.    98.   106.  ]]\n",
      "\n",
      "  [[125.75 114.75 120.75]\n",
      "   [124.   113.   119.  ]\n",
      "   [111.75 100.75 106.75]\n",
      "   ...\n",
      "   [114.   103.   111.  ]\n",
      "   [120.75 109.75 117.75]\n",
      "   [114.25 103.25 111.25]]\n",
      "\n",
      "  [[120.   109.   115.  ]\n",
      "   [116.5  105.5  111.5 ]\n",
      "   [109.    98.   104.  ]\n",
      "   ...\n",
      "   [114.   103.   111.  ]\n",
      "   [112.75 101.75 109.75]\n",
      "   [119.75 108.75 116.75]]]\n",
      "\n",
      "\n",
      " [[[226.5  221.5  218.5 ]\n",
      "   [224.75 219.75 216.75]\n",
      "   [225.5  220.5  217.5 ]\n",
      "   ...\n",
      "   [191.75 181.75 180.75]\n",
      "   [199.   189.   188.  ]\n",
      "   [194.25 184.25 183.25]]\n",
      "\n",
      "  [[227.5  222.5  219.5 ]\n",
      "   [226.5  221.5  218.5 ]\n",
      "   [226.75 221.75 218.75]\n",
      "   ...\n",
      "   [195.75 185.75 184.75]\n",
      "   [197.25 187.25 186.25]\n",
      "   [201.   191.   190.  ]]\n",
      "\n",
      "  [[233.5  228.5  225.5 ]\n",
      "   [232.   227.   224.  ]\n",
      "   [228.5  223.5  220.5 ]\n",
      "   ...\n",
      "   [193.25 183.25 182.25]\n",
      "   [189.25 179.25 178.25]\n",
      "   [194.5  184.5  183.5 ]]\n",
      "\n",
      "  ...\n",
      "\n",
      "  [[200.   191.   186.  ]\n",
      "   [205.5  196.5  191.5 ]\n",
      "   [205.5  196.5  191.5 ]\n",
      "   ...\n",
      "   [164.5  150.5  147.5 ]\n",
      "   [165.75 151.75 148.75]\n",
      "   [160.   146.   143.  ]]\n",
      "\n",
      "  [[198.   189.   184.  ]\n",
      "   [193.5  184.5  179.5 ]\n",
      "   [204.25 195.25 190.25]\n",
      "   ...\n",
      "   [168.75 154.75 151.75]\n",
      "   [169.75 155.75 152.75]\n",
      "   [164.75 150.75 147.75]]\n",
      "\n",
      "  [[199.25 190.25 185.25]\n",
      "   [201.5  192.5  187.5 ]\n",
      "   [195.25 186.25 181.25]\n",
      "   ...\n",
      "   [169.75 155.75 152.75]\n",
      "   [168.75 154.75 151.75]\n",
      "   [171.   157.   154.  ]]]\n",
      "\n",
      "\n",
      " ...\n",
      "\n",
      "\n",
      " [[[148.75 129.75 122.75]\n",
      "   [148.25 129.25 122.25]\n",
      "   [157.75 138.75 131.75]\n",
      "   ...\n",
      "   [183.25 170.25 162.25]\n",
      "   [195.75 182.75 174.75]\n",
      "   [183.   170.   162.  ]]\n",
      "\n",
      "  [[145.25 126.25 119.25]\n",
      "   [159.5  140.5  133.5 ]\n",
      "   [161.75 142.75 135.75]\n",
      "   ...\n",
      "   [174.   161.   153.  ]\n",
      "   [186.   173.   165.  ]\n",
      "   [191.   178.   170.  ]]\n",
      "\n",
      "  [[161.   142.   135.  ]\n",
      "   [154.25 135.25 128.25]\n",
      "   [151.   132.   125.  ]\n",
      "   ...\n",
      "   [153.5  140.5  132.5 ]\n",
      "   [177.75 164.75 156.75]\n",
      "   [197.25 184.25 176.25]]\n",
      "\n",
      "  ...\n",
      "\n",
      "  [[153.   135.   131.  ]\n",
      "   [163.75 145.75 141.75]\n",
      "   [142.   124.   120.  ]\n",
      "   ...\n",
      "   [183.75 174.75 169.75]\n",
      "   [182.75 173.75 168.75]\n",
      "   [187.5  178.5  173.5 ]]\n",
      "\n",
      "  [[145.5  127.5  123.5 ]\n",
      "   [159.75 141.75 137.75]\n",
      "   [150.25 132.25 128.25]\n",
      "   ...\n",
      "   [183.25 174.25 169.25]\n",
      "   [188.25 179.25 174.25]\n",
      "   [175.   166.   161.  ]]\n",
      "\n",
      "  [[154.   136.   132.  ]\n",
      "   [137.5  119.5  115.5 ]\n",
      "   [145.75 127.75 123.75]\n",
      "   ...\n",
      "   [188.   179.   174.  ]\n",
      "   [173.25 164.25 159.25]\n",
      "   [185.5  176.5  171.5 ]]]\n",
      "\n",
      "\n",
      " [[[180.25 175.25 182.25]\n",
      "   [162.   157.   164.  ]\n",
      "   [162.25 157.25 164.25]\n",
      "   ...\n",
      "   [139.75 130.75 135.75]\n",
      "   [132.25 123.25 128.25]\n",
      "   [129.5  120.5  125.5 ]]\n",
      "\n",
      "  [[160.25 155.25 162.25]\n",
      "   [153.   148.   155.  ]\n",
      "   [151.   146.   153.  ]\n",
      "   ...\n",
      "   [143.   134.   139.  ]\n",
      "   [136.5  127.5  132.5 ]\n",
      "   [125.   116.   121.  ]]\n",
      "\n",
      "  [[156.   151.   158.  ]\n",
      "   [166.   161.   168.  ]\n",
      "   [163.   158.   165.  ]\n",
      "   ...\n",
      "   [137.   128.   133.  ]\n",
      "   [136.   127.   132.  ]\n",
      "   [116.5  107.5  112.5 ]]\n",
      "\n",
      "  ...\n",
      "\n",
      "  [[193.   187.   189.  ]\n",
      "   [196.75 190.75 192.75]\n",
      "   [186.25 180.25 182.25]\n",
      "   ...\n",
      "   [177.5  166.5  170.5 ]\n",
      "   [163.5  152.5  156.5 ]\n",
      "   [155.5  144.5  148.5 ]]\n",
      "\n",
      "  [[195.5  189.5  191.5 ]\n",
      "   [195.25 189.25 191.25]\n",
      "   [190.   184.   186.  ]\n",
      "   ...\n",
      "   [168.25 157.25 161.25]\n",
      "   [162.   151.   155.  ]\n",
      "   [170.25 159.25 163.25]]\n",
      "\n",
      "  [[185.   179.   181.  ]\n",
      "   [185.5  179.5  181.5 ]\n",
      "   [198.25 192.25 194.25]\n",
      "   ...\n",
      "   [171.25 160.25 164.25]\n",
      "   [174.5  163.5  167.5 ]\n",
      "   [165.   154.   158.  ]]]\n",
      "\n",
      "\n",
      " [[[ 50.75  53.75  75.25]\n",
      "   [ 50.    52.25  73.5 ]\n",
      "   [ 48.5   50.75  72.  ]\n",
      "   ...\n",
      "   [ 28.25  19.5   34.75]\n",
      "   [ 27.5   19.    32.75]\n",
      "   [ 27.    18.5   30.5 ]]\n",
      "\n",
      "  [[101.25 104.25 137.5 ]\n",
      "   [ 99.5  102.5  135.75]\n",
      "   [ 95.    98.   131.25]\n",
      "   ...\n",
      "   [ 55.    43.25  63.  ]\n",
      "   [ 51.25  40.    57.75]\n",
      "   [ 48.5   37.25  54.75]]\n",
      "\n",
      "  [[ 94.25  95.5  139.75]\n",
      "   [ 96.75  98.   142.25]\n",
      "   [ 96.75  98.   142.25]\n",
      "   ...\n",
      "   [ 58.75  46.5   70.5 ]\n",
      "   [ 53.    41.    63.  ]\n",
      "   [ 49.    37.    58.5 ]]\n",
      "\n",
      "  ...\n",
      "\n",
      "  [[ 93.5   98.5  140.5 ]\n",
      "   [ 96.   101.   143.  ]\n",
      "   [ 95.5  100.5  142.5 ]\n",
      "   ...\n",
      "   [139.   147.   186.  ]\n",
      "   [136.75 144.75 183.75]\n",
      "   [135.25 143.25 182.25]]\n",
      "\n",
      "  [[ 86.    91.   133.  ]\n",
      "   [ 99.5  104.5  146.5 ]\n",
      "   [ 94.25  99.25 141.25]\n",
      "   ...\n",
      "   [137.   145.   184.  ]\n",
      "   [137.25 145.25 184.25]\n",
      "   [139.25 147.25 186.25]]\n",
      "\n",
      "  [[ 91.    96.   138.  ]\n",
      "   [ 98.   103.   145.  ]\n",
      "   [ 95.25 100.25 142.25]\n",
      "   ...\n",
      "   [139.   147.   184.  ]\n",
      "   [137.5  145.5  182.5 ]\n",
      "   [135.75 143.75 180.75]]]], shape=(32, 128, 128, 3), dtype=float32)\n",
      "tf.Tensor(\n",
      "[[0. 0. 0. ... 0. 0. 0.]\n",
      " [0. 0. 0. ... 0. 0. 0.]\n",
      " [0. 0. 0. ... 0. 0. 0.]\n",
      " ...\n",
      " [0. 0. 0. ... 1. 0. 0.]\n",
      " [0. 0. 0. ... 0. 0. 0.]\n",
      " [1. 0. 0. ... 0. 0. 0.]], shape=(32, 38), dtype=float32)\n",
      "(32, 128, 128, 3)\n",
      "(32, 38)\n"
     ]
    }
   ],
   "source": [
    "for x,y in training_set:\n",
    "    print(x)\n",
    "    print(y)\n",
    "    print(x.shape)\n",
    "    print(y.shape)\n",
    "    break"
   ]
  },
  {
   "cell_type": "markdown",
   "id": "555475fa",
   "metadata": {},
   "source": [
    "implementing the neural network"
   ]
  },
  {
   "cell_type": "code",
   "execution_count": 17,
   "id": "3c1ad28b",
   "metadata": {},
   "outputs": [],
   "source": [
    "from tensorflow.keras.layers import Dense,Conv2D,MaxPool2D,Flatten\n",
    "from tensorflow.keras.models import Sequential"
   ]
  },
  {
   "cell_type": "code",
   "execution_count": 14,
   "id": "e5aec03f",
   "metadata": {},
   "outputs": [],
   "source": [
    "model = Sequential()"
   ]
  },
  {
   "cell_type": "code",
   "execution_count": 18,
   "id": "35389304",
   "metadata": {},
   "outputs": [],
   "source": [
    "model.add(Conv2D(filters=32, kernel_size=3, padding='same',activation='relu',input_shape=[128,128,3]))\n",
    "model.add(Conv2D(filters=32, kernel_size=3, padding='same',activation='relu'))\n",
    "model.add(MaxPool2D(pool_size=2,strides=2))"
   ]
  },
  {
   "cell_type": "code",
   "execution_count": 19,
   "id": "e094bb10",
   "metadata": {},
   "outputs": [],
   "source": [
    "model.add(Conv2D(filters=64, kernel_size=3, padding='same',activation='relu',input_shape=[128,128,3]))\n",
    "model.add(Conv2D(filters=64, kernel_size=3, padding='same',activation='relu'))\n",
    "model.add(MaxPool2D(pool_size=2,strides=2))"
   ]
  },
  {
   "cell_type": "code",
   "execution_count": 20,
   "id": "374743ac",
   "metadata": {},
   "outputs": [],
   "source": [
    "model.add(Conv2D(filters=128, kernel_size=3, padding='same',activation='relu',input_shape=[128,128,3]))\n",
    "model.add(Conv2D(filters=128, kernel_size=3, padding='same',activation='relu'))\n",
    "model.add(MaxPool2D(pool_size=2,strides=2))"
   ]
  },
  {
   "cell_type": "code",
   "execution_count": 21,
   "id": "aa680106",
   "metadata": {},
   "outputs": [],
   "source": [
    "model.add(Conv2D(filters=256, kernel_size=3, padding='same',activation='relu',input_shape=[128,128,3]))\n",
    "model.add(Conv2D(filters=256, kernel_size=3, padding='same',activation='relu'))\n",
    "model.add(MaxPool2D(pool_size=2,strides=2))"
   ]
  },
  {
   "cell_type": "code",
   "execution_count": 22,
   "id": "6c05ecce",
   "metadata": {},
   "outputs": [],
   "source": [
    "model.add(Flatten())"
   ]
  },
  {
   "cell_type": "code",
   "execution_count": 23,
   "id": "b0905d75",
   "metadata": {},
   "outputs": [],
   "source": [
    "model.add(Dense(units=1024,activation='relu'))"
   ]
  },
  {
   "cell_type": "code",
   "execution_count": 24,
   "id": "6fa5d493",
   "metadata": {},
   "outputs": [],
   "source": [
    "model.add(Dense(units=38,activation='softmax'))"
   ]
  },
  {
   "cell_type": "markdown",
   "id": "b8657d81",
   "metadata": {},
   "source": [
    "Compiling the model"
   ]
  },
  {
   "cell_type": "code",
   "execution_count": 25,
   "id": "c85f11f2",
   "metadata": {},
   "outputs": [],
   "source": [
    "model.compile(optimizer='adam',loss='categorical_crossentropy',metrics=['accuracy'])"
   ]
  },
  {
   "cell_type": "code",
   "execution_count": 26,
   "id": "d29a18dd",
   "metadata": {},
   "outputs": [
    {
     "name": "stdout",
     "output_type": "stream",
     "text": [
      "Model: \"sequential\"\n",
      "_________________________________________________________________\n",
      " Layer (type)                Output Shape              Param #   \n",
      "=================================================================\n",
      " conv2d (Conv2D)             (None, 128, 128, 32)      896       \n",
      "                                                                 \n",
      " conv2d_1 (Conv2D)           (None, 128, 128, 32)      9248      \n",
      "                                                                 \n",
      " conv2d_2 (Conv2D)           (None, 128, 128, 32)      9248      \n",
      "                                                                 \n",
      " conv2d_3 (Conv2D)           (None, 128, 128, 32)      9248      \n",
      "                                                                 \n",
      " max_pooling2d (MaxPooling2D  (None, 64, 64, 32)       0         \n",
      " )                                                               \n",
      "                                                                 \n",
      " conv2d_4 (Conv2D)           (None, 64, 64, 64)        18496     \n",
      "                                                                 \n",
      " conv2d_5 (Conv2D)           (None, 64, 64, 64)        36928     \n",
      "                                                                 \n",
      " max_pooling2d_1 (MaxPooling  (None, 32, 32, 64)       0         \n",
      " 2D)                                                             \n",
      "                                                                 \n",
      " conv2d_6 (Conv2D)           (None, 32, 32, 128)       73856     \n",
      "                                                                 \n",
      " conv2d_7 (Conv2D)           (None, 32, 32, 128)       147584    \n",
      "                                                                 \n",
      " max_pooling2d_2 (MaxPooling  (None, 16, 16, 128)      0         \n",
      " 2D)                                                             \n",
      "                                                                 \n",
      " conv2d_8 (Conv2D)           (None, 16, 16, 256)       295168    \n",
      "                                                                 \n",
      " conv2d_9 (Conv2D)           (None, 16, 16, 256)       590080    \n",
      "                                                                 \n",
      " max_pooling2d_3 (MaxPooling  (None, 8, 8, 256)        0         \n",
      " 2D)                                                             \n",
      "                                                                 \n",
      " flatten (Flatten)           (None, 16384)             0         \n",
      "                                                                 \n",
      " dense (Dense)               (None, 1024)              16778240  \n",
      "                                                                 \n",
      " dense_1 (Dense)             (None, 38)                38950     \n",
      "                                                                 \n",
      "=================================================================\n",
      "Total params: 18,007,942\n",
      "Trainable params: 18,007,942\n",
      "Non-trainable params: 0\n",
      "_________________________________________________________________\n"
     ]
    }
   ],
   "source": [
    "model.summary()"
   ]
  },
  {
   "cell_type": "markdown",
   "id": "b2b5ce32",
   "metadata": {},
   "source": [
    "Training the model"
   ]
  },
  {
   "cell_type": "code",
   "execution_count": 27,
   "id": "b52bd2e7",
   "metadata": {},
   "outputs": [
    {
     "name": "stdout",
     "output_type": "stream",
     "text": [
      "Epoch 1/10\n",
      "2197/2197 [==============================] - 986s 434ms/step - loss: 1.2225 - accuracy: 0.6399 - val_loss: 0.4838 - val_accuracy: 0.8388\n",
      "Epoch 2/10\n",
      "2197/2197 [==============================] - 506s 230ms/step - loss: 0.3369 - accuracy: 0.8889 - val_loss: 0.3289 - val_accuracy: 0.8941\n",
      "Epoch 3/10\n",
      "2197/2197 [==============================] - 459s 209ms/step - loss: 0.2318 - accuracy: 0.9227 - val_loss: 0.2412 - val_accuracy: 0.9243\n",
      "Epoch 4/10\n",
      "2197/2197 [==============================] - 533s 242ms/step - loss: 0.1864 - accuracy: 0.9374 - val_loss: 0.2989 - val_accuracy: 0.9067\n",
      "Epoch 5/10\n",
      "2197/2197 [==============================] - 454s 207ms/step - loss: 0.1459 - accuracy: 0.9517 - val_loss: 0.2651 - val_accuracy: 0.9219\n",
      "Epoch 6/10\n",
      "2197/2197 [==============================] - 450s 205ms/step - loss: 0.1421 - accuracy: 0.9526 - val_loss: 0.3429 - val_accuracy: 0.9034\n",
      "Epoch 7/10\n",
      "2197/2197 [==============================] - 460s 210ms/step - loss: 0.1234 - accuracy: 0.9597 - val_loss: 0.3264 - val_accuracy: 0.9087\n",
      "Epoch 8/10\n",
      "2197/2197 [==============================] - 463s 211ms/step - loss: 0.1274 - accuracy: 0.9585 - val_loss: 0.3403 - val_accuracy: 0.9116\n",
      "Epoch 9/10\n",
      "2197/2197 [==============================] - 459s 209ms/step - loss: 0.1094 - accuracy: 0.9649 - val_loss: 0.3293 - val_accuracy: 0.9141\n",
      "Epoch 10/10\n",
      "2197/2197 [==============================] - 450s 205ms/step - loss: 0.1202 - accuracy: 0.9620 - val_loss: 0.3768 - val_accuracy: 0.9144\n"
     ]
    }
   ],
   "source": [
    "training_history = model.fit(x=training_set,validation_data=validation_set,epochs=10)"
   ]
  },
  {
   "cell_type": "markdown",
   "id": "7c147a4d",
   "metadata": {},
   "source": [
    "Model Evaluation on Training set"
   ]
  },
  {
   "cell_type": "code",
   "execution_count": 28,
   "id": "0ccb13fb",
   "metadata": {},
   "outputs": [
    {
     "name": "stdout",
     "output_type": "stream",
     "text": [
      "2197/2197 [==============================] - 104s 47ms/step - loss: 0.0686 - accuracy: 0.9784\n"
     ]
    }
   ],
   "source": [
    "train_loss,train_acc = model.evaluate(training_set)"
   ]
  },
  {
   "cell_type": "code",
   "execution_count": 29,
   "id": "313eb8fd",
   "metadata": {},
   "outputs": [
    {
     "name": "stdout",
     "output_type": "stream",
     "text": [
      "0.06861492991447449 0.9783768653869629\n"
     ]
    }
   ],
   "source": [
    "print(train_loss,train_acc)"
   ]
  },
  {
   "cell_type": "markdown",
   "id": "8151ec41",
   "metadata": {},
   "source": [
    "Model Evaluation on Validation set"
   ]
  },
  {
   "cell_type": "code",
   "execution_count": 30,
   "id": "e8c28970",
   "metadata": {},
   "outputs": [
    {
     "name": "stdout",
     "output_type": "stream",
     "text": [
      "550/550 [==============================] - 26s 46ms/step - loss: 0.3768 - accuracy: 0.9144\n"
     ]
    }
   ],
   "source": [
    "val_loss,val_acc=model.evaluate(validation_set)"
   ]
  },
  {
   "cell_type": "code",
   "execution_count": 31,
   "id": "5e435488",
   "metadata": {},
   "outputs": [
    {
     "name": "stdout",
     "output_type": "stream",
     "text": [
      "0.3767746388912201 0.9143523573875427\n"
     ]
    }
   ],
   "source": [
    "print(val_loss,val_acc)"
   ]
  },
  {
   "cell_type": "markdown",
   "id": "4e5fa55f",
   "metadata": {},
   "source": [
    "Saving the model"
   ]
  },
  {
   "cell_type": "code",
   "execution_count": 32,
   "id": "f803ae2e",
   "metadata": {},
   "outputs": [],
   "source": [
    "model.save(\"trained_model.keras\")"
   ]
  },
  {
   "cell_type": "code",
   "execution_count": 33,
   "id": "d0640831",
   "metadata": {},
   "outputs": [
    {
     "data": {
      "text/plain": [
       "{'loss': [1.2224533557891846,\n",
       "  0.3369305729866028,\n",
       "  0.2318025827407837,\n",
       "  0.18644899129867554,\n",
       "  0.1459229737520218,\n",
       "  0.1420845091342926,\n",
       "  0.1233576312661171,\n",
       "  0.1273830533027649,\n",
       "  0.10935060679912567,\n",
       "  0.12015735357999802],\n",
       " 'accuracy': [0.6399317383766174,\n",
       "  0.8889394402503967,\n",
       "  0.9227114319801331,\n",
       "  0.9374350905418396,\n",
       "  0.9517035484313965,\n",
       "  0.9526424407958984,\n",
       "  0.9597126245498657,\n",
       "  0.9584892392158508,\n",
       "  0.9649335145950317,\n",
       "  0.9619887471199036],\n",
       " 'val_loss': [0.48381075263023376,\n",
       "  0.32887372374534607,\n",
       "  0.24121835827827454,\n",
       "  0.29893428087234497,\n",
       "  0.26511773467063904,\n",
       "  0.3428776264190674,\n",
       "  0.3264375329017639,\n",
       "  0.3403274118900299,\n",
       "  0.3293282389640808,\n",
       "  0.3767743706703186],\n",
       " 'val_accuracy': [0.8387776017189026,\n",
       "  0.8941497802734375,\n",
       "  0.9243113994598389,\n",
       "  0.906726598739624,\n",
       "  0.9219212532043457,\n",
       "  0.903425931930542,\n",
       "  0.9087184071540833,\n",
       "  0.9116207361221313,\n",
       "  0.9141247272491455,\n",
       "  0.9143523573875427]}"
      ]
     },
     "execution_count": 33,
     "metadata": {},
     "output_type": "execute_result"
    }
   ],
   "source": [
    "training_history.history"
   ]
  },
  {
   "cell_type": "code",
   "execution_count": 34,
   "id": "9b2435e0",
   "metadata": {},
   "outputs": [],
   "source": [
    "#Recording History in Json\n",
    "import json\n",
    "with open(\"training_hist.json\",\"w\") as f:\n",
    "    json.dump(training_history.history,f)"
   ]
  },
  {
   "cell_type": "code",
   "execution_count": 35,
   "id": "9a3fc3d7",
   "metadata": {},
   "outputs": [
    {
     "data": {
      "text/plain": [
       "['Apple___Apple_scab',\n",
       " 'Apple___Black_rot',\n",
       " 'Apple___Cedar_apple_rust',\n",
       " 'Apple___healthy',\n",
       " 'Blueberry___healthy',\n",
       " 'Cherry_(including_sour)___Powdery_mildew',\n",
       " 'Cherry_(including_sour)___healthy',\n",
       " 'Corn_(maize)___Cercospora_leaf_spot Gray_leaf_spot',\n",
       " 'Corn_(maize)___Common_rust_',\n",
       " 'Corn_(maize)___Northern_Leaf_Blight',\n",
       " 'Corn_(maize)___healthy',\n",
       " 'Grape___Black_rot',\n",
       " 'Grape___Esca_(Black_Measles)',\n",
       " 'Grape___Leaf_blight_(Isariopsis_Leaf_Spot)',\n",
       " 'Grape___healthy',\n",
       " 'Orange___Haunglongbing_(Citrus_greening)',\n",
       " 'Peach___Bacterial_spot',\n",
       " 'Peach___healthy',\n",
       " 'Pepper,_bell___Bacterial_spot',\n",
       " 'Pepper,_bell___healthy',\n",
       " 'Potato___Early_blight',\n",
       " 'Potato___Late_blight',\n",
       " 'Potato___healthy',\n",
       " 'Raspberry___healthy',\n",
       " 'Soybean___healthy',\n",
       " 'Squash___Powdery_mildew',\n",
       " 'Strawberry___Leaf_scorch',\n",
       " 'Strawberry___healthy',\n",
       " 'Tomato___Bacterial_spot',\n",
       " 'Tomato___Early_blight',\n",
       " 'Tomato___Late_blight',\n",
       " 'Tomato___Leaf_Mold',\n",
       " 'Tomato___Septoria_leaf_spot',\n",
       " 'Tomato___Spider_mites Two-spotted_spider_mite',\n",
       " 'Tomato___Target_Spot',\n",
       " 'Tomato___Tomato_Yellow_Leaf_Curl_Virus',\n",
       " 'Tomato___Tomato_mosaic_virus',\n",
       " 'Tomato___healthy']"
      ]
     },
     "execution_count": 35,
     "metadata": {},
     "output_type": "execute_result"
    }
   ],
   "source": [
    "class_name = validation_set.class_names\n",
    "class_name"
   ]
  },
  {
   "cell_type": "code",
   "execution_count": 36,
   "id": "a3fbbf8f",
   "metadata": {},
   "outputs": [
    {
     "name": "stdout",
     "output_type": "stream",
     "text": [
      "Found 17572 files belonging to 38 classes.\n"
     ]
    }
   ],
   "source": [
    "test_set = tf.keras.utils.image_dataset_from_directory(\n",
    "    valid,\n",
    "    labels=\"inferred\",\n",
    "    label_mode=\"categorical\",\n",
    "    class_names=None,\n",
    "    color_mode=\"rgb\",\n",
    "    batch_size=32,\n",
    "    image_size=(128, 128),\n",
    "    shuffle=False,\n",
    "    seed=None,\n",
    "    validation_split=None,\n",
    "    subset=None,\n",
    "    interpolation=\"bilinear\",\n",
    "    follow_links=False,\n",
    "    crop_to_aspect_ratio=False,\n",
    ")"
   ]
  },
  {
   "cell_type": "code",
   "execution_count": 37,
   "id": "ee809f47",
   "metadata": {},
   "outputs": [
    {
     "name": "stdout",
     "output_type": "stream",
     "text": [
      "550/550 [==============================] - 25s 43ms/step\n"
     ]
    },
    {
     "data": {
      "text/plain": [
       "array([[1.0000000e+00, 1.6968899e-15, 2.5545182e-20, ..., 4.1649877e-35,\n",
       "        2.0909863e-24, 9.4690580e-27],\n",
       "       [9.6977746e-01, 2.0840378e-02, 2.8994049e-05, ..., 1.7230055e-07,\n",
       "        2.7227182e-07, 1.5781328e-05],\n",
       "       [1.0000000e+00, 2.8528006e-16, 1.2242012e-17, ..., 6.8473814e-30,\n",
       "        5.5744933e-21, 2.3372086e-22],\n",
       "       ...,\n",
       "       [1.8684256e-08, 1.7147144e-15, 5.0763449e-10, ..., 7.7979465e-08,\n",
       "        1.1846954e-12, 9.9462152e-01],\n",
       "       [3.6251593e-13, 4.0347376e-23, 7.1196219e-15, ..., 3.0057117e-06,\n",
       "        9.2924817e-20, 9.9999058e-01],\n",
       "       [1.5758406e-16, 1.7263179e-16, 2.7276711e-18, ..., 3.7114097e-12,\n",
       "        1.5976374e-08, 8.7161785e-01]], dtype=float32)"
      ]
     },
     "execution_count": 37,
     "metadata": {},
     "output_type": "execute_result"
    }
   ],
   "source": [
    "y_prediction = model.predict(test_set)\n",
    "y_prediction"
   ]
  },
  {
   "cell_type": "code",
   "execution_count": null,
   "id": "405d3b5a",
   "metadata": {},
   "outputs": [],
   "source": []
  }
 ],
 "metadata": {
  "kernelspec": {
   "display_name": "tf",
   "language": "python",
   "name": "python3"
  },
  "language_info": {
   "codemirror_mode": {
    "name": "ipython",
    "version": 3
   },
   "file_extension": ".py",
   "mimetype": "text/x-python",
   "name": "python",
   "nbconvert_exporter": "python",
   "pygments_lexer": "ipython3",
   "version": "3.10.16"
  }
 },
 "nbformat": 4,
 "nbformat_minor": 5
}
